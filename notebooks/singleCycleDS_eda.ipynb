{
 "cells": [
  {
   "cell_type": "code",
   "execution_count": 2,
   "metadata": {},
   "outputs": [
    {
     "name": "stdout",
     "output_type": "stream",
     "text": [
      "* PTB-XL Autoencoder *\n"
     ]
    }
   ],
   "source": [
    "import torch\n",
    "from ptbxlae.dataprocessing.ptbxlDS import PtbxlSingleCycleDS\n",
    "from tqdm.auto import tqdm"
   ]
  },
  {
   "cell_type": "code",
   "execution_count": 3,
   "metadata": {},
   "outputs": [
    {
     "data": {
      "text/plain": [
       "<ptbxlae.dataprocessing.ptbxlDS.PtbxlSingleCycleDS at 0x7efe048a1750>"
      ]
     },
     "execution_count": 3,
     "metadata": {},
     "output_type": "execute_result"
    }
   ],
   "source": [
    "ds = PtbxlSingleCycleDS(root_folder=\"../data\")\n",
    "ds"
   ]
  },
  {
   "cell_type": "code",
   "execution_count": 4,
   "metadata": {},
   "outputs": [
    {
     "data": {
      "text/plain": [
       "[<matplotlib.lines.Line2D at 0x7efe04736350>]"
      ]
     },
     "execution_count": 4,
     "metadata": {},
     "output_type": "execute_result"
    },
    {
     "data": {
      "image/png": "[encoded data removed]",
      "text/plain": [
       "<Figure size 640x480 with 1 Axes>"
      ]
     },
     "metadata": {},
     "output_type": "display_data"
    }
   ],
   "source": [
    "import matplotlib.pyplot as plt\n",
    "\n",
    "SAMPLE_IDX = 1300\n",
    "SAMPLE_CHAN = 6\n",
    "\n",
    "sig, padmask = ds[SAMPLE_IDX]\n",
    "\n",
    "plt.plot(range(0,ds.seq_len), sig[SAMPLE_CHAN, :])\n"
   ]
  },
  {
   "cell_type": "code",
   "execution_count": 5,
   "metadata": {},
   "outputs": [
    {
     "data": {
      "application/vnd.jupyter.widget-view+json": {
       "model_id": "60163875aeac49e4a7d06bd559bb1173",
       "version_major": 2,
       "version_minor": 0
      },
      "text/plain": [
       "  0%|          | 0/15053 [00:00<?, ?it/s]"
      ]
     },
     "metadata": {},
     "output_type": "display_data"
    },
    {
     "name": "stdout",
     "output_type": "stream",
     "text": [
      "[-] WARN: signal without valid waves\n",
      "[-] WARN: signal without valid waves\n",
      "[-] WARN: signal without valid waves\n",
      "[-] WARN: signal without valid waves\n",
      "[-] WARN: signal without valid waves\n",
      "[-] WARN: signal without valid waves\n",
      "[-] WARN: signal without valid waves\n",
      "[-] WARN: signal without valid waves\n",
      "[-] WARN: signal without valid waves\n",
      "[-] WARN: signal without valid waves\n",
      "[-] WARN: signal without valid waves\n",
      "[-] WARN: signal without valid waves\n",
      "[-] WARN: signal without valid waves\n",
      "[-] WARN: signal without valid waves\n",
      "[-] WARN: signal without valid waves\n",
      "[-] WARN: signal without valid waves\n",
      "[-] WARN: signal without valid waves\n",
      "[-] WARN: signal without valid waves\n",
      "[-] WARN: signal without valid waves\n",
      "[-] WARN: signal without valid waves\n",
      "[-] WARN: signal without valid waves\n",
      "[-] WARN: signal without valid waves\n",
      "[-] WARN: signal without valid waves\n",
      "[-] WARN: signal without valid waves\n",
      "[-] WARN: signal without valid waves\n"
     ]
    },
    {
     "name": "stderr",
     "output_type": "stream",
     "text": [
      "/home/isears/VirtualEnvironments/default/lib/python3.11/site-packages/neurokit2/signal/signal_period.py:84: NeuroKitWarning: Too few peaks detected to compute the rate. Returning empty vector.\n",
      "  warn(\n"
     ]
    },
    {
     "name": "stdout",
     "output_type": "stream",
     "text": [
      "[-] WARN neurokit unable to generate delinetions\n",
      "[-] WARN: signal without valid waves\n",
      "[-] WARN: signal without valid waves\n",
      "[-] WARN: signal without valid waves\n"
     ]
    },
    {
     "name": "stderr",
     "output_type": "stream",
     "text": [
      "/home/isears/VirtualEnvironments/default/lib/python3.11/site-packages/neurokit2/signal/signal_period.py:84: NeuroKitWarning: Too few peaks detected to compute the rate. Returning empty vector.\n",
      "  warn(\n"
     ]
    },
    {
     "name": "stdout",
     "output_type": "stream",
     "text": [
      "[-] WARN neurokit unable to generate delinetions\n",
      "[-] WARN: signal without valid waves\n",
      "[-] WARN: signal without valid waves\n",
      "[-] WARN: signal without valid waves\n",
      "[-] WARN: signal without valid waves\n",
      "[-] WARN: signal without valid waves\n",
      "[-] WARN: signal without valid waves\n"
     ]
    },
    {
     "name": "stderr",
     "output_type": "stream",
     "text": [
      "/home/isears/VirtualEnvironments/default/lib/python3.11/site-packages/neurokit2/signal/signal_period.py:84: NeuroKitWarning: Too few peaks detected to compute the rate. Returning empty vector.\n",
      "  warn(\n"
     ]
    },
    {
     "name": "stdout",
     "output_type": "stream",
     "text": [
      "[-] WARN neurokit unable to generate delinetions\n",
      "[-] WARN: signal without valid waves\n",
      "[-] WARN: signal without valid waves\n",
      "[-] WARN: signal without valid waves\n"
     ]
    },
    {
     "name": "stderr",
     "output_type": "stream",
     "text": [
      "/home/isears/VirtualEnvironments/default/lib/python3.11/site-packages/neurokit2/signal/signal_period.py:84: NeuroKitWarning: Too few peaks detected to compute the rate. Returning empty vector.\n",
      "  warn(\n"
     ]
    },
    {
     "name": "stdout",
     "output_type": "stream",
     "text": [
      "[-] WARN neurokit unable to generate delinetions\n",
      "[-] WARN: signal without valid waves\n",
      "[-] WARN: signal without valid waves\n",
      "[-] WARN: signal without valid waves\n"
     ]
    },
    {
     "name": "stderr",
     "output_type": "stream",
     "text": [
      "/home/isears/VirtualEnvironments/default/lib/python3.11/site-packages/neurokit2/signal/signal_period.py:84: NeuroKitWarning: Too few peaks detected to compute the rate. Returning empty vector.\n",
      "  warn(\n"
     ]
    },
    {
     "name": "stdout",
     "output_type": "stream",
     "text": [
      "[-] WARN neurokit unable to generate delinetions\n",
      "[-] WARN abnormally large cardiac cycle 521\n",
      "[-] WARN: signal without valid waves\n",
      "[-] WARN: signal without valid waves\n",
      "[-] WARN: signal without valid waves\n",
      "[-] WARN: signal without valid waves\n",
      "[-] WARN: signal without valid waves\n",
      "[-] WARN: signal without valid waves\n",
      "[-] WARN: signal without valid waves\n",
      "[-] WARN: signal without valid waves\n",
      "[-] WARN: signal without valid waves\n",
      "[-] WARN: signal without valid waves\n",
      "[-] WARN: signal without valid waves\n",
      "[-] WARN: signal without valid waves\n"
     ]
    },
    {
     "name": "stderr",
     "output_type": "stream",
     "text": [
      "/home/isears/VirtualEnvironments/default/lib/python3.11/site-packages/neurokit2/signal/signal_period.py:84: NeuroKitWarning: Too few peaks detected to compute the rate. Returning empty vector.\n",
      "  warn(\n"
     ]
    },
    {
     "name": "stdout",
     "output_type": "stream",
     "text": [
      "[-] WARN neurokit unable to generate delinetions\n"
     ]
    },
    {
     "name": "stderr",
     "output_type": "stream",
     "text": [
      "/home/isears/VirtualEnvironments/default/lib/python3.11/site-packages/neurokit2/signal/signal_period.py:84: NeuroKitWarning: Too few peaks detected to compute the rate. Returning empty vector.\n",
      "  warn(\n"
     ]
    },
    {
     "name": "stdout",
     "output_type": "stream",
     "text": [
      "[-] WARN neurokit unable to generate delinetions\n",
      "[-] WARN: signal without valid waves\n"
     ]
    },
    {
     "name": "stderr",
     "output_type": "stream",
     "text": [
      "/home/isears/VirtualEnvironments/default/lib/python3.11/site-packages/neurokit2/signal/signal_period.py:84: NeuroKitWarning: Too few peaks detected to compute the rate. Returning empty vector.\n",
      "  warn(\n"
     ]
    },
    {
     "name": "stdout",
     "output_type": "stream",
     "text": [
      "[-] WARN neurokit unable to generate delinetions\n"
     ]
    },
    {
     "name": "stderr",
     "output_type": "stream",
     "text": [
      "/home/isears/VirtualEnvironments/default/lib/python3.11/site-packages/neurokit2/signal/signal_period.py:84: NeuroKitWarning: Too few peaks detected to compute the rate. Returning empty vector.\n",
      "  warn(\n"
     ]
    },
    {
     "name": "stdout",
     "output_type": "stream",
     "text": [
      "[-] WARN neurokit unable to generate delinetions\n",
      "[-] WARN: signal without valid waves\n",
      "[-] WARN: signal without valid waves\n",
      "[-] WARN: signal without valid waves\n",
      "[-] WARN: signal without valid waves\n",
      "[-] WARN: signal without valid waves\n",
      "[-] WARN: signal without valid waves\n",
      "[-] WARN: signal without valid waves\n",
      "[-] WARN: signal without valid waves\n",
      "[-] WARN: signal without valid waves\n",
      "[-] WARN: signal without valid waves\n"
     ]
    },
    {
     "name": "stderr",
     "output_type": "stream",
     "text": [
      "/home/isears/VirtualEnvironments/default/lib/python3.11/site-packages/neurokit2/signal/signal_period.py:84: NeuroKitWarning: Too few peaks detected to compute the rate. Returning empty vector.\n",
      "  warn(\n"
     ]
    },
    {
     "name": "stdout",
     "output_type": "stream",
     "text": [
      "[-] WARN neurokit unable to generate delinetions\n",
      "[-] WARN: signal without valid waves\n",
      "[-] WARN: signal without valid waves\n",
      "[-] WARN: signal without valid waves\n"
     ]
    },
    {
     "name": "stderr",
     "output_type": "stream",
     "text": [
      "/home/isears/VirtualEnvironments/default/lib/python3.11/site-packages/neurokit2/signal/signal_period.py:84: NeuroKitWarning: Too few peaks detected to compute the rate. Returning empty vector.\n",
      "  warn(\n"
     ]
    },
    {
     "name": "stdout",
     "output_type": "stream",
     "text": [
      "[-] WARN neurokit unable to generate delinetions\n"
     ]
    },
    {
     "name": "stderr",
     "output_type": "stream",
     "text": [
      "/home/isears/VirtualEnvironments/default/lib/python3.11/site-packages/neurokit2/signal/signal_period.py:84: NeuroKitWarning: Too few peaks detected to compute the rate. Returning empty vector.\n",
      "  warn(\n"
     ]
    },
    {
     "name": "stdout",
     "output_type": "stream",
     "text": [
      "[-] WARN neurokit unable to generate delinetions\n",
      "[-] WARN: signal without valid waves\n",
      "[-] WARN: signal without valid waves\n",
      "[-] WARN: signal without valid waves\n",
      "[-] WARN: signal without valid waves\n"
     ]
    },
    {
     "name": "stderr",
     "output_type": "stream",
     "text": [
      "/home/isears/VirtualEnvironments/default/lib/python3.11/site-packages/neurokit2/signal/signal_period.py:84: NeuroKitWarning: Too few peaks detected to compute the rate. Returning empty vector.\n",
      "  warn(\n"
     ]
    },
    {
     "name": "stdout",
     "output_type": "stream",
     "text": [
      "[-] WARN neurokit unable to generate delinetions\n",
      "[-] WARN: signal without valid waves\n",
      "[-] WARN: signal without valid waves\n",
      "[-] WARN: signal without valid waves\n",
      "[-] WARN: signal without valid waves\n",
      "[-] WARN: signal without valid waves\n",
      "[-] WARN: signal without valid waves\n",
      "[-] WARN: signal without valid waves\n",
      "[-] WARN abnormally large cardiac cycle 517\n",
      "[-] WARN: signal without valid waves\n",
      "[-] WARN: signal without valid waves\n",
      "[-] WARN: signal without valid waves\n",
      "[-] WARN: signal without valid waves\n",
      "[-] WARN: signal without valid waves\n",
      "[-] WARN: signal without valid waves\n"
     ]
    },
    {
     "name": "stderr",
     "output_type": "stream",
     "text": [
      "/home/isears/VirtualEnvironments/default/lib/python3.11/site-packages/neurokit2/signal/signal_period.py:84: NeuroKitWarning: Too few peaks detected to compute the rate. Returning empty vector.\n",
      "  warn(\n"
     ]
    },
    {
     "name": "stdout",
     "output_type": "stream",
     "text": [
      "[-] WARN neurokit unable to generate delinetions\n",
      "[-] WARN: signal without valid waves\n",
      "[-] WARN: signal without valid waves\n",
      "[-] WARN: signal without valid waves\n",
      "[-] WARN: signal without valid waves\n",
      "[-] WARN: signal without valid waves\n",
      "[-] WARN: signal without valid waves\n",
      "[-] WARN: signal without valid waves\n"
     ]
    },
    {
     "name": "stderr",
     "output_type": "stream",
     "text": [
      "/home/isears/VirtualEnvironments/default/lib/python3.11/site-packages/neurokit2/signal/signal_period.py:84: NeuroKitWarning: Too few peaks detected to compute the rate. Returning empty vector.\n",
      "  warn(\n"
     ]
    },
    {
     "name": "stdout",
     "output_type": "stream",
     "text": [
      "[-] WARN neurokit unable to generate delinetions\n",
      "[-] WARN: signal without valid waves\n"
     ]
    },
    {
     "name": "stderr",
     "output_type": "stream",
     "text": [
      "/home/isears/VirtualEnvironments/default/lib/python3.11/site-packages/neurokit2/signal/signal_period.py:84: NeuroKitWarning: Too few peaks detected to compute the rate. Returning empty vector.\n",
      "  warn(\n"
     ]
    },
    {
     "name": "stdout",
     "output_type": "stream",
     "text": [
      "[-] WARN neurokit unable to generate delinetions\n",
      "[-] WARN: signal without valid waves\n"
     ]
    },
    {
     "name": "stderr",
     "output_type": "stream",
     "text": [
      "/home/isears/VirtualEnvironments/default/lib/python3.11/site-packages/neurokit2/signal/signal_period.py:84: NeuroKitWarning: Too few peaks detected to compute the rate. Returning empty vector.\n",
      "  warn(\n"
     ]
    },
    {
     "name": "stdout",
     "output_type": "stream",
     "text": [
      "[-] WARN neurokit unable to generate delinetions\n",
      "[-] WARN: signal without valid waves\n",
      "[-] WARN: signal without valid waves\n",
      "[-] WARN: signal without valid waves\n",
      "[-] WARN: signal without valid waves\n",
      "[-] WARN: signal without valid waves\n"
     ]
    },
    {
     "name": "stderr",
     "output_type": "stream",
     "text": [
      "/home/isears/VirtualEnvironments/default/lib/python3.11/site-packages/neurokit2/signal/signal_period.py:84: NeuroKitWarning: Too few peaks detected to compute the rate. Returning empty vector.\n",
      "  warn(\n"
     ]
    },
    {
     "name": "stdout",
     "output_type": "stream",
     "text": [
      "[-] WARN neurokit unable to generate delinetions\n",
      "[-] WARN: signal without valid waves\n",
      "[-] WARN: signal without valid waves\n",
      "[-] WARN: signal without valid waves\n"
     ]
    },
    {
     "name": "stderr",
     "output_type": "stream",
     "text": [
      "/home/isears/VirtualEnvironments/default/lib/python3.11/site-packages/neurokit2/signal/signal_period.py:84: NeuroKitWarning: Too few peaks detected to compute the rate. Returning empty vector.\n",
      "  warn(\n"
     ]
    },
    {
     "name": "stdout",
     "output_type": "stream",
     "text": [
      "[-] WARN neurokit unable to generate delinetions\n",
      "[-] WARN: signal without valid waves\n",
      "[-] WARN: signal without valid waves\n",
      "[-] WARN: signal without valid waves\n",
      "[-] WARN: signal without valid waves\n",
      "[-] WARN: signal without valid waves\n",
      "[-] WARN: signal without valid waves\n"
     ]
    },
    {
     "name": "stderr",
     "output_type": "stream",
     "text": [
      "/home/isears/VirtualEnvironments/default/lib/python3.11/site-packages/neurokit2/signal/signal_period.py:84: NeuroKitWarning: Too few peaks detected to compute the rate. Returning empty vector.\n",
      "  warn(\n"
     ]
    },
    {
     "name": "stdout",
     "output_type": "stream",
     "text": [
      "[-] WARN neurokit unable to generate delinetions\n",
      "[-] WARN: signal without valid waves\n",
      "[-] WARN abnormally large cardiac cycle 547\n",
      "[-] WARN: signal without valid waves\n"
     ]
    },
    {
     "name": "stderr",
     "output_type": "stream",
     "text": [
      "/home/isears/VirtualEnvironments/default/lib/python3.11/site-packages/neurokit2/signal/signal_period.py:84: NeuroKitWarning: Too few peaks detected to compute the rate. Returning empty vector.\n",
      "  warn(\n"
     ]
    },
    {
     "name": "stdout",
     "output_type": "stream",
     "text": [
      "[-] WARN neurokit unable to generate delinetions\n",
      "[-] WARN: signal without valid waves\n",
      "[-] WARN: signal without valid waves\n",
      "[-] WARN: signal without valid waves\n",
      "[-] WARN: signal without valid waves\n",
      "[-] WARN: signal without valid waves\n"
     ]
    },
    {
     "name": "stderr",
     "output_type": "stream",
     "text": [
      "/home/isears/VirtualEnvironments/default/lib/python3.11/site-packages/neurokit2/signal/signal_period.py:84: NeuroKitWarning: Too few peaks detected to compute the rate. Returning empty vector.\n",
      "  warn(\n"
     ]
    },
    {
     "name": "stdout",
     "output_type": "stream",
     "text": [
      "[-] WARN neurokit unable to generate delinetions\n"
     ]
    },
    {
     "name": "stderr",
     "output_type": "stream",
     "text": [
      "/home/isears/VirtualEnvironments/default/lib/python3.11/site-packages/neurokit2/signal/signal_period.py:84: NeuroKitWarning: Too few peaks detected to compute the rate. Returning empty vector.\n",
      "  warn(\n"
     ]
    },
    {
     "name": "stdout",
     "output_type": "stream",
     "text": [
      "[-] WARN neurokit unable to generate delinetions\n",
      "[-] WARN abnormally large cardiac cycle 517\n"
     ]
    }
   ],
   "source": [
    "for idx in tqdm(range(0, len(ds))):\n",
    "    _ = ds[idx]\n"
   ]
  },
  {
   "cell_type": "code",
   "execution_count": null,
   "metadata": {},
   "outputs": [],
   "source": []
  }
 ],
 "metadata": {
  "kernelspec": {
   "display_name": "default",
   "language": "python",
   "name": "python3"
  },
  "language_info": {
   "codemirror_mode": {
    "name": "ipython",
    "version": 3
   },
   "file_extension": ".py",
   "mimetype": "text/x-python",
   "name": "python",
   "nbconvert_exporter": "python",
   "pygments_lexer": "ipython3",
   "version": "3.11.10"
  }
 },
 "nbformat": 4,
 "nbformat_minor": 2
}
