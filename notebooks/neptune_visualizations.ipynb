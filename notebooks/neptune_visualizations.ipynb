{
 "cells": [
  {
   "cell_type": "code",
   "execution_count": 1,
   "metadata": {},
   "outputs": [
    {
     "data": {
      "text/plain": [
       "True"
      ]
     },
     "execution_count": 1,
     "metadata": {},
     "output_type": "execute_result"
    }
   ],
   "source": [
    "import neptune\n",
    "from dotenv import load_dotenv\n",
    "import plotly.io as pio\n",
    "import re\n",
    "from tqdm.notebook import tqdm\n",
    "\n",
    "# pip install python-dotenv\n",
    "# Jupyter in VS Code, at least, does not appear to load environment variables from .bashrc\n",
    "# Workaround, create .env in notebooks directory (gitignored) and place API key\n",
    "# e.g. NEPTUNE_API_TOKEN=\"abcdef\"\n",
    "load_dotenv()"
   ]
  },
  {
   "cell_type": "code",
   "execution_count": 2,
   "metadata": {},
   "outputs": [
    {
     "name": "stdout",
     "output_type": "stream",
     "text": [
      "[neptune] [info   ] Neptune initialized. Open in the app: https://app.neptune.ai/isears/ptbxlae/e/PTBXLAE-34\n"
     ]
    },
    {
     "data": {
      "text/plain": [
       "<neptune.metadata_containers.run.Run at 0x7f65081e8e50>"
      ]
     },
     "execution_count": 2,
     "metadata": {},
     "output_type": "execute_result"
    }
   ],
   "source": [
    "run = neptune.init_run(project=\"isears/ptbxlae\", with_id=\"PTBXLAE-34\", mode=\"read-only\")\n",
    "run"
   ]
  },
  {
   "cell_type": "code",
   "execution_count": 3,
   "metadata": {},
   "outputs": [],
   "source": [
    "\n",
    "def save_reconstruction_to_png(path: str):\n",
    "    run[path].download(destination='/tmp/neptune.html', progress_bar=False)\n",
    "\n",
    "    with open('/tmp/neptune.html', 'r') as f:\n",
    "        raw_text = f.read()\n",
    "\n",
    "\n",
    "    m = re.search(r'{ *Plotly\\.newPlot\\(.*\\)', raw_text, re.DOTALL)\n",
    "    start_idx = m[0].index('[')\n",
    "\n",
    "    number_of_opens = 0\n",
    "\n",
    "    # Just get data\n",
    "    for idx in range(start_idx, len(m[0])):\n",
    "        curr_char = m[0][idx]\n",
    "\n",
    "        if curr_char == \"[\":\n",
    "            number_of_opens += 1\n",
    "        elif curr_char == \"]\":\n",
    "            number_of_opens -= 1\n",
    "\n",
    "            if number_of_opens == 0:\n",
    "                end_idx = idx\n",
    "                break\n",
    "\n",
    "    plotly_data_raw = m[0][start_idx:end_idx+1]\n",
    "\n",
    "    fig = pio.from_json(plotly_data_raw)\n",
    "    return fig.to_image(\"png\")\n",
    "\n"
   ]
  },
  {
   "cell_type": "code",
   "execution_count": 17,
   "metadata": {},
   "outputs": [
    {
     "data": {
      "application/vnd.jupyter.widget-view+json": {
       "model_id": "d7cfc0f31e10474281df50e7244ef68f",
       "version_major": 2,
       "version_minor": 0
      },
      "text/plain": [
       "  0%|          | 0/2560 [00:00<?, ?it/s]"
      ]
     },
     "metadata": {},
     "output_type": "display_data"
    }
   ],
   "source": [
    "struct = run.get_structure()\n",
    "struct['visuals']\n",
    "\n",
    "collected_imgs = dict()\n",
    "\n",
    "for fname in tqdm(struct['visuals'].keys()):\n",
    "    if 'example4' in fname:\n",
    "        epoch_num = int(fname.split('-')[1].split('epoch')[1])\n",
    "        collected_imgs[epoch_num] = save_reconstruction_to_png(f\"visuals/{fname}\")\n",
    "        "
   ]
  },
  {
   "cell_type": "code",
   "execution_count": 23,
   "metadata": {},
   "outputs": [
    {
     "name": "stderr",
     "output_type": "stream",
     "text": [
      "/tmp/ipykernel_1648343/704787867.py:5: DeprecationWarning:\n",
      "\n",
      "Starting with ImageIO v3 the behavior of this function will switch to that of iio.v3.imread. To keep the current behavior (and make this warning disappear) use `import imageio.v2 as imageio` or call `imageio.v2.imread` directly.\n",
      "\n"
     ]
    }
   ],
   "source": [
    "import imageio\n",
    "\n",
    "durations = [150] * len(collected_imgs)\n",
    "durations[-1] = 500\n",
    "imageio.mimsave('./neptune.gif', [imageio.imread(c) for epoch_num, c in dict(sorted(collected_imgs.items())).items()], duration = durations, loop=0)\n"
   ]
  },
  {
   "cell_type": "markdown",
   "metadata": {},
   "source": [
    "# Result\n",
    "![TrainingGIF](./neptune.gif \"training GIF\")"
   ]
  }
 ],
 "metadata": {
  "kernelspec": {
   "display_name": "default",
   "language": "python",
   "name": "python3"
  },
  "language_info": {
   "codemirror_mode": {
    "name": "ipython",
    "version": 3
   },
   "file_extension": ".py",
   "mimetype": "text/x-python",
   "name": "python",
   "nbconvert_exporter": "python",
   "pygments_lexer": "ipython3",
   "version": "3.11.10"
  }
 },
 "nbformat": 4,
 "nbformat_minor": 2
}
