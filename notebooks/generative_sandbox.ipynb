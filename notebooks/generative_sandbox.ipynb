{
 "cells": [
  {
   "cell_type": "code",
   "execution_count": 1,
   "metadata": {},
   "outputs": [
    {
     "name": "stdout",
     "output_type": "stream",
     "text": [
      "* PTB-XL Autoencoder *\n"
     ]
    }
   ],
   "source": [
    "import torch\n",
    "from ptbxlae.modeling.ecgvae import StaticSimpleVAE"
   ]
  },
  {
   "cell_type": "code",
   "execution_count": 2,
   "metadata": {},
   "outputs": [
    {
     "name": "stderr",
     "output_type": "stream",
     "text": [
      "/home/isears/VirtualEnvironments/default/lib/python3.11/site-packages/lightning/fabric/utilities/cloud_io.py:56: You are using `torch.load` with `weights_only=False` (the current default value), which uses the default pickle module implicitly. It is possible to construct malicious pickle data which will execute arbitrary code during unpickling (See https://github.com/pytorch/pytorch/blob/main/SECURITY.md#untrusted-models for more details). In a future release, the default value for `weights_only` will be flipped to `True`. This limits the functions that could be executed during unpickling. Arbitrary objects will no longer be allowed to be loaded via this mode unless they are explicitly allowlisted by the user via `torch.serialization.add_safe_globals`. We recommend you start setting `weights_only=True` for any use case where you don't have full control of the loaded file. Please open an issue on GitHub for any issues related to this experimental feature.\n"
     ]
    },
    {
     "data": {
      "text/plain": [
       "StaticSimpleVAE(\n",
       "  (encoder): StaticSimpleEncoder(\n",
       "    (conv1): Conv1d(12, 24, kernel_size=(5,), stride=(1,), padding=(2,))\n",
       "    (bn1): BatchNorm1d(24, eps=1e-05, momentum=0.1, affine=True, track_running_stats=True)\n",
       "    (nonlinearity1): ReLU()\n",
       "    (maxpool1): MaxPool1d(kernel_size=5, stride=5, padding=0, dilation=1, ceil_mode=False)\n",
       "    (conv2): Conv1d(24, 48, kernel_size=(5,), stride=(1,), padding=(2,))\n",
       "    (bn2): BatchNorm1d(48, eps=1e-05, momentum=0.1, affine=True, track_running_stats=True)\n",
       "    (nonlinearity2): ReLU()\n",
       "    (maxpool2): MaxPool1d(kernel_size=5, stride=5, padding=0, dilation=1, ceil_mode=False)\n",
       "    (conv3): Conv1d(48, 96, kernel_size=(5,), stride=(1,), padding=(2,))\n",
       "    (bn3): BatchNorm1d(96, eps=1e-05, momentum=0.1, affine=True, track_running_stats=True)\n",
       "    (nonlinearity3): ReLU()\n",
       "    (maxpool3): MaxPool1d(kernel_size=5, stride=5, padding=0, dilation=1, ceil_mode=False)\n",
       "    (conv4): Conv1d(96, 1, kernel_size=(5,), stride=(1,), padding=(2,))\n",
       "  )\n",
       "  (decoder): StaticSimpleDecoder(\n",
       "    (conv1): ConvTranspose1d(1, 96, kernel_size=(5,), stride=(1,), padding=(2,))\n",
       "    (bn1): BatchNorm1d(96, eps=1e-05, momentum=0.1, affine=True, track_running_stats=True)\n",
       "    (nonlinearity1): ReLU()\n",
       "    (upsample1): Upsample(scale_factor=5.0, mode='nearest')\n",
       "    (conv2): ConvTranspose1d(96, 48, kernel_size=(5,), stride=(1,), padding=(2,))\n",
       "    (bn2): BatchNorm1d(48, eps=1e-05, momentum=0.1, affine=True, track_running_stats=True)\n",
       "    (nonlinearity2): ReLU()\n",
       "    (upsample2): Upsample(scale_factor=5.0, mode='nearest')\n",
       "    (conv3): ConvTranspose1d(48, 24, kernel_size=(5,), stride=(1,), padding=(2,))\n",
       "    (bn3): BatchNorm1d(24, eps=1e-05, momentum=0.1, affine=True, track_running_stats=True)\n",
       "    (nonlinearity3): ReLU()\n",
       "    (upsample3): Upsample(scale_factor=5.0, mode='nearest')\n",
       "    (conv4): ConvTranspose1d(24, 12, kernel_size=(5,), stride=(1,), padding=(2,))\n",
       "  )\n",
       "  (mu): Linear(in_features=40, out_features=40, bias=True)\n",
       "  (sigma): Linear(in_features=40, out_features=40, bias=True)\n",
       ")"
      ]
     },
     "execution_count": 2,
     "metadata": {},
     "output_type": "execute_result"
    }
   ],
   "source": [
    "torch.no_grad()\n",
    "m = StaticSimpleVAE.load_from_checkpoint('../cache/savedmodels/last.ckpt')\n",
    "m.eval()"
   ]
  },
  {
   "cell_type": "code",
   "execution_count": 3,
   "metadata": {},
   "outputs": [],
   "source": [
    "# 40 latent dims (batch = 1)\n",
    "l = torch.rand((1, 40)).to('cuda')"
   ]
  },
  {
   "cell_type": "code",
   "execution_count": 4,
   "metadata": {},
   "outputs": [
    {
     "data": {
      "text/plain": [
       "tensor([[[-0.0108, -0.0218,  0.0069,  ..., -0.0055, -0.0316, -0.0097],\n",
       "         [ 0.0194, -0.0217, -0.0022,  ..., -0.0288, -0.0267, -0.0333],\n",
       "         [ 0.0259, -0.0117, -0.0071,  ..., -0.0237, -0.0249, -0.0141],\n",
       "         ...,\n",
       "         [-0.0082, -0.0133, -0.0172,  ..., -0.0199, -0.0383, -0.0160],\n",
       "         [-0.0230, -0.0029,  0.0099,  ..., -0.0276, -0.0245, -0.0529],\n",
       "         [-0.0005, -0.0109,  0.0127,  ..., -0.0228, -0.0389, -0.0300]]],\n",
       "       device='cuda:0', grad_fn=<ConvolutionBackward0>)"
      ]
     },
     "execution_count": 4,
     "metadata": {},
     "output_type": "execute_result"
    }
   ],
   "source": [
    "generated_ecg = m.decoder(l)\n",
    "generated_ecg"
   ]
  },
  {
   "cell_type": "code",
   "execution_count": 18,
   "metadata": {},
   "outputs": [
    {
     "data": {
      "text/plain": [
       "torch.Size([1, 12, 5000])"
      ]
     },
     "execution_count": 18,
     "metadata": {},
     "output_type": "execute_result"
    }
   ],
   "source": [
    "generated_ecg.shape"
   ]
  },
  {
   "cell_type": "code",
   "execution_count": 6,
   "metadata": {},
   "outputs": [
    {
     "ename": "RuntimeError",
     "evalue": "Can't call numpy() on Tensor that requires grad. Use tensor.detach().numpy() instead.",
     "output_type": "error",
     "traceback": [
      "\u001b[0;31m---------------------------------------------------------------------------\u001b[0m",
      "\u001b[0;31mRuntimeError\u001b[0m                              Traceback (most recent call last)",
      "Cell \u001b[0;32mIn[6], line 2\u001b[0m\n\u001b[1;32m      1\u001b[0m \u001b[38;5;28;01mfrom\u001b[39;00m \u001b[38;5;21;01mptbxlae\u001b[39;00m\u001b[38;5;21;01m.\u001b[39;00m\u001b[38;5;21;01mdataprocessing\u001b[39;00m \u001b[38;5;28;01mimport\u001b[39;00m plot_raw_data\n\u001b[0;32m----> 2\u001b[0m plot_raw_data(\u001b[43mgenerated_ecg\u001b[49m\u001b[43m[\u001b[49m\u001b[38;5;241;43m0\u001b[39;49m\u001b[43m]\u001b[49m\u001b[38;5;241;43m.\u001b[39;49m\u001b[43mto\u001b[49m\u001b[43m(\u001b[49m\u001b[38;5;124;43m'\u001b[39;49m\u001b[38;5;124;43mcpu\u001b[39;49m\u001b[38;5;124;43m'\u001b[39;49m\u001b[43m)\u001b[49m\u001b[38;5;241;43m.\u001b[39;49m\u001b[43mnumpy\u001b[49m\u001b[43m(\u001b[49m\u001b[43m)\u001b[49m, {\u001b[38;5;124m'\u001b[39m\u001b[38;5;124mfs\u001b[39m\u001b[38;5;124m'\u001b[39m: \u001b[38;5;241m500\u001b[39m})\n",
      "\u001b[0;31mRuntimeError\u001b[0m: Can't call numpy() on Tensor that requires grad. Use tensor.detach().numpy() instead."
     ]
    }
   ],
   "source": [
    "from ptbxlae.dataprocessing import plot_raw_data\n",
    "plot_raw_data(generated_ecg[0].to('cpu').numpy(), {'fs': 500})"
   ]
  },
  {
   "cell_type": "code",
   "execution_count": null,
   "metadata": {},
   "outputs": [],
   "source": []
  }
 ],
 "metadata": {
  "kernelspec": {
   "display_name": "default",
   "language": "python",
   "name": "python3"
  },
  "language_info": {
   "codemirror_mode": {
    "name": "ipython",
    "version": 3
   },
   "file_extension": ".py",
   "mimetype": "text/x-python",
   "name": "python",
   "nbconvert_exporter": "python",
   "pygments_lexer": "ipython3",
   "version": "3.11.10"
  }
 },
 "nbformat": 4,
 "nbformat_minor": 2
}
