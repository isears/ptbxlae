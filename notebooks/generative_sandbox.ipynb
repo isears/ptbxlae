{
 "cells": [
  {
   "cell_type": "code",
   "execution_count": 1,
   "metadata": {},
   "outputs": [
    {
     "name": "stdout",
     "output_type": "stream",
     "text": [
      "* PTB-XL Autoencoder *\n"
     ]
    }
   ],
   "source": [
    "import torch\n",
    "from ptbxlae.modeling.resnet1dVAE import Resnet1dVAE"
   ]
  },
  {
   "cell_type": "code",
   "execution_count": 2,
   "metadata": {},
   "outputs": [
    {
     "name": "stderr",
     "output_type": "stream",
     "text": [
      "/home/isears/VirtualEnvironments/default/lib/python3.11/site-packages/lightning/fabric/utilities/cloud_io.py:56: You are using `torch.load` with `weights_only=False` (the current default value), which uses the default pickle module implicitly. It is possible to construct malicious pickle data which will execute arbitrary code during unpickling (See https://github.com/pytorch/pytorch/blob/main/SECURITY.md#untrusted-models for more details). In a future release, the default value for `weights_only` will be flipped to `True`. This limits the functions that could be executed during unpickling. Arbitrary objects will no longer be allowed to be loaded via this mode unless they are explicitly allowlisted by the user via `torch.serialization.add_safe_globals`. We recommend you start setting `weights_only=True` for any use case where you don't have full control of the loaded file. Please open an issue on GitHub for any issues related to this experimental feature.\n"
     ]
    },
    {
     "data": {
      "text/plain": [
       "Resnet1dVAE(\n",
       "  (encoder): Resnet1dEncoder(\n",
       "    (conv): Conv1d(12, 24, kernel_size=(5,), stride=(1,), padding=(2,), bias=False)\n",
       "    (bn): BatchNorm1d(24, eps=1e-05, momentum=0.1, affine=True, track_running_stats=True)\n",
       "    (activation): ReLU()\n",
       "    (layer1): Sequential(\n",
       "      (0): ResidualBlock(\n",
       "        (conv1): Conv1d(24, 24, kernel_size=(5,), stride=(1,), padding=(2,), bias=False)\n",
       "        (bn1): BatchNorm1d(24, eps=1e-05, momentum=0.1, affine=True, track_running_stats=True)\n",
       "        (activation): ReLU()\n",
       "        (conv2): Conv1d(24, 24, kernel_size=(5,), stride=(1,), padding=(2,), bias=False)\n",
       "        (bn2): BatchNorm1d(24, eps=1e-05, momentum=0.1, affine=True, track_running_stats=True)\n",
       "      )\n",
       "      (1): ResidualBlock(\n",
       "        (conv1): Conv1d(24, 24, kernel_size=(5,), stride=(1,), padding=(2,), bias=False)\n",
       "        (bn1): BatchNorm1d(24, eps=1e-05, momentum=0.1, affine=True, track_running_stats=True)\n",
       "        (activation): ReLU()\n",
       "        (conv2): Conv1d(24, 24, kernel_size=(5,), stride=(1,), padding=(2,), bias=False)\n",
       "        (bn2): BatchNorm1d(24, eps=1e-05, momentum=0.1, affine=True, track_running_stats=True)\n",
       "      )\n",
       "      (2): ResidualBlock(\n",
       "        (conv1): Conv1d(24, 24, kernel_size=(5,), stride=(1,), padding=(2,), bias=False)\n",
       "        (bn1): BatchNorm1d(24, eps=1e-05, momentum=0.1, affine=True, track_running_stats=True)\n",
       "        (activation): ReLU()\n",
       "        (conv2): Conv1d(24, 24, kernel_size=(5,), stride=(1,), padding=(2,), bias=False)\n",
       "        (bn2): BatchNorm1d(24, eps=1e-05, momentum=0.1, affine=True, track_running_stats=True)\n",
       "      )\n",
       "      (3): MaxPool1d(kernel_size=4, stride=4, padding=0, dilation=1, ceil_mode=False)\n",
       "    )\n",
       "    (layer2): Sequential(\n",
       "      (0): ResidualBlock(\n",
       "        (conv1): Conv1d(24, 48, kernel_size=(5,), stride=(1,), padding=(2,), bias=False)\n",
       "        (bn1): BatchNorm1d(48, eps=1e-05, momentum=0.1, affine=True, track_running_stats=True)\n",
       "        (activation): ReLU()\n",
       "        (conv2): Conv1d(48, 48, kernel_size=(5,), stride=(1,), padding=(2,), bias=False)\n",
       "        (bn2): BatchNorm1d(48, eps=1e-05, momentum=0.1, affine=True, track_running_stats=True)\n",
       "        (down_or_up_sample): Sequential(\n",
       "          (0): Conv1d(24, 48, kernel_size=(5,), stride=(1,), padding=(2,), bias=False)\n",
       "          (1): BatchNorm1d(48, eps=1e-05, momentum=0.1, affine=True, track_running_stats=True)\n",
       "        )\n",
       "      )\n",
       "      (1): ResidualBlock(\n",
       "        (conv1): Conv1d(48, 48, kernel_size=(5,), stride=(1,), padding=(2,), bias=False)\n",
       "        (bn1): BatchNorm1d(48, eps=1e-05, momentum=0.1, affine=True, track_running_stats=True)\n",
       "        (activation): ReLU()\n",
       "        (conv2): Conv1d(48, 48, kernel_size=(5,), stride=(1,), padding=(2,), bias=False)\n",
       "        (bn2): BatchNorm1d(48, eps=1e-05, momentum=0.1, affine=True, track_running_stats=True)\n",
       "      )\n",
       "      (2): ResidualBlock(\n",
       "        (conv1): Conv1d(48, 48, kernel_size=(5,), stride=(1,), padding=(2,), bias=False)\n",
       "        (bn1): BatchNorm1d(48, eps=1e-05, momentum=0.1, affine=True, track_running_stats=True)\n",
       "        (activation): ReLU()\n",
       "        (conv2): Conv1d(48, 48, kernel_size=(5,), stride=(1,), padding=(2,), bias=False)\n",
       "        (bn2): BatchNorm1d(48, eps=1e-05, momentum=0.1, affine=True, track_running_stats=True)\n",
       "      )\n",
       "      (3): MaxPool1d(kernel_size=4, stride=4, padding=0, dilation=1, ceil_mode=False)\n",
       "    )\n",
       "    (layer3): Sequential(\n",
       "      (0): ResidualBlock(\n",
       "        (conv1): Conv1d(48, 96, kernel_size=(5,), stride=(1,), padding=(2,), bias=False)\n",
       "        (bn1): BatchNorm1d(96, eps=1e-05, momentum=0.1, affine=True, track_running_stats=True)\n",
       "        (activation): ReLU()\n",
       "        (conv2): Conv1d(96, 96, kernel_size=(5,), stride=(1,), padding=(2,), bias=False)\n",
       "        (bn2): BatchNorm1d(96, eps=1e-05, momentum=0.1, affine=True, track_running_stats=True)\n",
       "        (down_or_up_sample): Sequential(\n",
       "          (0): Conv1d(48, 96, kernel_size=(5,), stride=(1,), padding=(2,), bias=False)\n",
       "          (1): BatchNorm1d(96, eps=1e-05, momentum=0.1, affine=True, track_running_stats=True)\n",
       "        )\n",
       "      )\n",
       "      (1): ResidualBlock(\n",
       "        (conv1): Conv1d(96, 96, kernel_size=(5,), stride=(1,), padding=(2,), bias=False)\n",
       "        (bn1): BatchNorm1d(96, eps=1e-05, momentum=0.1, affine=True, track_running_stats=True)\n",
       "        (activation): ReLU()\n",
       "        (conv2): Conv1d(96, 96, kernel_size=(5,), stride=(1,), padding=(2,), bias=False)\n",
       "        (bn2): BatchNorm1d(96, eps=1e-05, momentum=0.1, affine=True, track_running_stats=True)\n",
       "      )\n",
       "      (2): ResidualBlock(\n",
       "        (conv1): Conv1d(96, 96, kernel_size=(5,), stride=(1,), padding=(2,), bias=False)\n",
       "        (bn1): BatchNorm1d(96, eps=1e-05, momentum=0.1, affine=True, track_running_stats=True)\n",
       "        (activation): ReLU()\n",
       "        (conv2): Conv1d(96, 96, kernel_size=(5,), stride=(1,), padding=(2,), bias=False)\n",
       "        (bn2): BatchNorm1d(96, eps=1e-05, momentum=0.1, affine=True, track_running_stats=True)\n",
       "      )\n",
       "      (3): MaxPool1d(kernel_size=4, stride=4, padding=0, dilation=1, ceil_mode=False)\n",
       "    )\n",
       "    (layer4): Sequential(\n",
       "      (0): ResidualBlock(\n",
       "        (conv1): Conv1d(96, 192, kernel_size=(5,), stride=(1,), padding=(2,), bias=False)\n",
       "        (bn1): BatchNorm1d(192, eps=1e-05, momentum=0.1, affine=True, track_running_stats=True)\n",
       "        (activation): ReLU()\n",
       "        (conv2): Conv1d(192, 192, kernel_size=(5,), stride=(1,), padding=(2,), bias=False)\n",
       "        (bn2): BatchNorm1d(192, eps=1e-05, momentum=0.1, affine=True, track_running_stats=True)\n",
       "        (down_or_up_sample): Sequential(\n",
       "          (0): Conv1d(96, 192, kernel_size=(5,), stride=(1,), padding=(2,), bias=False)\n",
       "          (1): BatchNorm1d(192, eps=1e-05, momentum=0.1, affine=True, track_running_stats=True)\n",
       "        )\n",
       "      )\n",
       "      (1): ResidualBlock(\n",
       "        (conv1): Conv1d(192, 192, kernel_size=(5,), stride=(1,), padding=(2,), bias=False)\n",
       "        (bn1): BatchNorm1d(192, eps=1e-05, momentum=0.1, affine=True, track_running_stats=True)\n",
       "        (activation): ReLU()\n",
       "        (conv2): Conv1d(192, 192, kernel_size=(5,), stride=(1,), padding=(2,), bias=False)\n",
       "        (bn2): BatchNorm1d(192, eps=1e-05, momentum=0.1, affine=True, track_running_stats=True)\n",
       "      )\n",
       "      (2): ResidualBlock(\n",
       "        (conv1): Conv1d(192, 192, kernel_size=(5,), stride=(1,), padding=(2,), bias=False)\n",
       "        (bn1): BatchNorm1d(192, eps=1e-05, momentum=0.1, affine=True, track_running_stats=True)\n",
       "        (activation): ReLU()\n",
       "        (conv2): Conv1d(192, 192, kernel_size=(5,), stride=(1,), padding=(2,), bias=False)\n",
       "        (bn2): BatchNorm1d(192, eps=1e-05, momentum=0.1, affine=True, track_running_stats=True)\n",
       "      )\n",
       "      (3): MaxPool1d(kernel_size=4, stride=4, padding=0, dilation=1, ceil_mode=False)\n",
       "    )\n",
       "    (flatten): Flatten(start_dim=1, end_dim=-1)\n",
       "    (dropout): Dropout(p=0.1, inplace=False)\n",
       "    (linear): Linear(in_features=3648, out_features=40, bias=True)\n",
       "  )\n",
       "  (decoder): Resnet1dDecoder(\n",
       "    (linear): Linear(in_features=40, out_features=3648, bias=True)\n",
       "    (dropout): Dropout(p=0.1, inplace=False)\n",
       "    (unflatten): Unflatten(dim=1, unflattened_size=(192, -1))\n",
       "    (layer1): Sequential(\n",
       "      (0): Upsample(size=78, mode='nearest')\n",
       "      (1): ResidualBlock(\n",
       "        (conv1): ConvTranspose1d(192, 96, kernel_size=(5,), stride=(1,), padding=(2,), bias=False)\n",
       "        (bn1): BatchNorm1d(96, eps=1e-05, momentum=0.1, affine=True, track_running_stats=True)\n",
       "        (activation): ReLU()\n",
       "        (conv2): ConvTranspose1d(96, 96, kernel_size=(5,), stride=(1,), padding=(2,), bias=False)\n",
       "        (bn2): BatchNorm1d(96, eps=1e-05, momentum=0.1, affine=True, track_running_stats=True)\n",
       "        (down_or_up_sample): Sequential(\n",
       "          (0): ConvTranspose1d(192, 96, kernel_size=(5,), stride=(1,), padding=(2,), bias=False)\n",
       "          (1): BatchNorm1d(96, eps=1e-05, momentum=0.1, affine=True, track_running_stats=True)\n",
       "        )\n",
       "      )\n",
       "      (2): ResidualBlock(\n",
       "        (conv1): ConvTranspose1d(96, 96, kernel_size=(5,), stride=(1,), padding=(2,), bias=False)\n",
       "        (bn1): BatchNorm1d(96, eps=1e-05, momentum=0.1, affine=True, track_running_stats=True)\n",
       "        (activation): ReLU()\n",
       "        (conv2): ConvTranspose1d(96, 96, kernel_size=(5,), stride=(1,), padding=(2,), bias=False)\n",
       "        (bn2): BatchNorm1d(96, eps=1e-05, momentum=0.1, affine=True, track_running_stats=True)\n",
       "      )\n",
       "      (3): ResidualBlock(\n",
       "        (conv1): ConvTranspose1d(96, 96, kernel_size=(5,), stride=(1,), padding=(2,), bias=False)\n",
       "        (bn1): BatchNorm1d(96, eps=1e-05, momentum=0.1, affine=True, track_running_stats=True)\n",
       "        (activation): ReLU()\n",
       "        (conv2): ConvTranspose1d(96, 96, kernel_size=(5,), stride=(1,), padding=(2,), bias=False)\n",
       "        (bn2): BatchNorm1d(96, eps=1e-05, momentum=0.1, affine=True, track_running_stats=True)\n",
       "      )\n",
       "    )\n",
       "    (layer2): Sequential(\n",
       "      (0): Upsample(size=312, mode='nearest')\n",
       "      (1): ResidualBlock(\n",
       "        (conv1): ConvTranspose1d(96, 48, kernel_size=(5,), stride=(1,), padding=(2,), bias=False)\n",
       "        (bn1): BatchNorm1d(48, eps=1e-05, momentum=0.1, affine=True, track_running_stats=True)\n",
       "        (activation): ReLU()\n",
       "        (conv2): ConvTranspose1d(48, 48, kernel_size=(5,), stride=(1,), padding=(2,), bias=False)\n",
       "        (bn2): BatchNorm1d(48, eps=1e-05, momentum=0.1, affine=True, track_running_stats=True)\n",
       "        (down_or_up_sample): Sequential(\n",
       "          (0): ConvTranspose1d(96, 48, kernel_size=(5,), stride=(1,), padding=(2,), bias=False)\n",
       "          (1): BatchNorm1d(48, eps=1e-05, momentum=0.1, affine=True, track_running_stats=True)\n",
       "        )\n",
       "      )\n",
       "      (2): ResidualBlock(\n",
       "        (conv1): ConvTranspose1d(48, 48, kernel_size=(5,), stride=(1,), padding=(2,), bias=False)\n",
       "        (bn1): BatchNorm1d(48, eps=1e-05, momentum=0.1, affine=True, track_running_stats=True)\n",
       "        (activation): ReLU()\n",
       "        (conv2): ConvTranspose1d(48, 48, kernel_size=(5,), stride=(1,), padding=(2,), bias=False)\n",
       "        (bn2): BatchNorm1d(48, eps=1e-05, momentum=0.1, affine=True, track_running_stats=True)\n",
       "      )\n",
       "      (3): ResidualBlock(\n",
       "        (conv1): ConvTranspose1d(48, 48, kernel_size=(5,), stride=(1,), padding=(2,), bias=False)\n",
       "        (bn1): BatchNorm1d(48, eps=1e-05, momentum=0.1, affine=True, track_running_stats=True)\n",
       "        (activation): ReLU()\n",
       "        (conv2): ConvTranspose1d(48, 48, kernel_size=(5,), stride=(1,), padding=(2,), bias=False)\n",
       "        (bn2): BatchNorm1d(48, eps=1e-05, momentum=0.1, affine=True, track_running_stats=True)\n",
       "      )\n",
       "    )\n",
       "    (layer3): Sequential(\n",
       "      (0): Upsample(size=1250, mode='nearest')\n",
       "      (1): ResidualBlock(\n",
       "        (conv1): ConvTranspose1d(48, 24, kernel_size=(5,), stride=(1,), padding=(2,), bias=False)\n",
       "        (bn1): BatchNorm1d(24, eps=1e-05, momentum=0.1, affine=True, track_running_stats=True)\n",
       "        (activation): ReLU()\n",
       "        (conv2): ConvTranspose1d(24, 24, kernel_size=(5,), stride=(1,), padding=(2,), bias=False)\n",
       "        (bn2): BatchNorm1d(24, eps=1e-05, momentum=0.1, affine=True, track_running_stats=True)\n",
       "        (down_or_up_sample): Sequential(\n",
       "          (0): ConvTranspose1d(48, 24, kernel_size=(5,), stride=(1,), padding=(2,), bias=False)\n",
       "          (1): BatchNorm1d(24, eps=1e-05, momentum=0.1, affine=True, track_running_stats=True)\n",
       "        )\n",
       "      )\n",
       "      (2): ResidualBlock(\n",
       "        (conv1): ConvTranspose1d(24, 24, kernel_size=(5,), stride=(1,), padding=(2,), bias=False)\n",
       "        (bn1): BatchNorm1d(24, eps=1e-05, momentum=0.1, affine=True, track_running_stats=True)\n",
       "        (activation): ReLU()\n",
       "        (conv2): ConvTranspose1d(24, 24, kernel_size=(5,), stride=(1,), padding=(2,), bias=False)\n",
       "        (bn2): BatchNorm1d(24, eps=1e-05, momentum=0.1, affine=True, track_running_stats=True)\n",
       "      )\n",
       "      (3): ResidualBlock(\n",
       "        (conv1): ConvTranspose1d(24, 24, kernel_size=(5,), stride=(1,), padding=(2,), bias=False)\n",
       "        (bn1): BatchNorm1d(24, eps=1e-05, momentum=0.1, affine=True, track_running_stats=True)\n",
       "        (activation): ReLU()\n",
       "        (conv2): ConvTranspose1d(24, 24, kernel_size=(5,), stride=(1,), padding=(2,), bias=False)\n",
       "        (bn2): BatchNorm1d(24, eps=1e-05, momentum=0.1, affine=True, track_running_stats=True)\n",
       "      )\n",
       "    )\n",
       "    (layer4): Sequential(\n",
       "      (0): Upsample(size=5000, mode='nearest')\n",
       "      (1): ResidualBlock(\n",
       "        (conv1): ConvTranspose1d(24, 24, kernel_size=(5,), stride=(1,), padding=(2,), bias=False)\n",
       "        (bn1): BatchNorm1d(24, eps=1e-05, momentum=0.1, affine=True, track_running_stats=True)\n",
       "        (activation): ReLU()\n",
       "        (conv2): ConvTranspose1d(24, 24, kernel_size=(5,), stride=(1,), padding=(2,), bias=False)\n",
       "        (bn2): BatchNorm1d(24, eps=1e-05, momentum=0.1, affine=True, track_running_stats=True)\n",
       "      )\n",
       "      (2): ResidualBlock(\n",
       "        (conv1): ConvTranspose1d(24, 24, kernel_size=(5,), stride=(1,), padding=(2,), bias=False)\n",
       "        (bn1): BatchNorm1d(24, eps=1e-05, momentum=0.1, affine=True, track_running_stats=True)\n",
       "        (activation): ReLU()\n",
       "        (conv2): ConvTranspose1d(24, 24, kernel_size=(5,), stride=(1,), padding=(2,), bias=False)\n",
       "        (bn2): BatchNorm1d(24, eps=1e-05, momentum=0.1, affine=True, track_running_stats=True)\n",
       "      )\n",
       "      (3): ResidualBlock(\n",
       "        (conv1): ConvTranspose1d(24, 24, kernel_size=(5,), stride=(1,), padding=(2,), bias=False)\n",
       "        (bn1): BatchNorm1d(24, eps=1e-05, momentum=0.1, affine=True, track_running_stats=True)\n",
       "        (activation): ReLU()\n",
       "        (conv2): ConvTranspose1d(24, 24, kernel_size=(5,), stride=(1,), padding=(2,), bias=False)\n",
       "        (bn2): BatchNorm1d(24, eps=1e-05, momentum=0.1, affine=True, track_running_stats=True)\n",
       "      )\n",
       "    )\n",
       "    (conv): ConvTranspose1d(24, 12, kernel_size=(5,), stride=(1,), padding=(2,), bias=False)\n",
       "    (bn): BatchNorm1d(12, eps=1e-05, momentum=0.1, affine=True, track_running_stats=True)\n",
       "    (activation): ReLU()\n",
       "  )\n",
       "  (mu): Linear(in_features=40, out_features=40, bias=True)\n",
       "  (sigma): Linear(in_features=40, out_features=40, bias=True)\n",
       ")"
      ]
     },
     "execution_count": 2,
     "metadata": {},
     "output_type": "execute_result"
    }
   ],
   "source": [
    "torch.no_grad()\n",
    "m = Resnet1dVAE.load_from_checkpoint('../cache/savedmodels/last-v5.ckpt')\n",
    "m.eval()"
   ]
  },
  {
   "cell_type": "code",
   "execution_count": 8,
   "metadata": {},
   "outputs": [
    {
     "data": {
      "text/plain": [
       "tensor(0., device='cuda:0', grad_fn=<SumBackward0>)"
      ]
     },
     "execution_count": 8,
     "metadata": {},
     "output_type": "execute_result"
    }
   ],
   "source": [
    "# 40 latent dims (batch = 1)\n",
    "l = torch.rand((1, 40)).to('cuda')\n",
    "generated_ecg = m.decoder(l) * 100\n",
    "generated_ecg.sum()"
   ]
  },
  {
   "cell_type": "code",
   "execution_count": 9,
   "metadata": {},
   "outputs": [
    {
     "data": {
      "text/plain": [
       "torch.Size([1, 12, 5000])"
      ]
     },
     "execution_count": 9,
     "metadata": {},
     "output_type": "execute_result"
    }
   ],
   "source": [
    "generated_ecg.shape"
   ]
  },
  {
   "cell_type": "code",
   "execution_count": 10,
   "metadata": {},
   "outputs": [
    {
     "data": {
      "image/png": "[encoded data removed]",
      "text/plain": [
       "<Figure size 1000x360 with 1 Axes>"
      ]
     },
     "metadata": {},
     "output_type": "display_data"
    }
   ],
   "source": [
    "from ptbxlae.dataprocessing import plot_raw_data\n",
    "plot_raw_data(generated_ecg[0].detach().to('cpu').numpy(), {'fs': 500})"
   ]
  },
  {
   "cell_type": "code",
   "execution_count": null,
   "metadata": {},
   "outputs": [],
   "source": []
  }
 ],
 "metadata": {
  "kernelspec": {
   "display_name": "default",
   "language": "python",
   "name": "python3"
  },
  "language_info": {
   "codemirror_mode": {
    "name": "ipython",
    "version": 3
   },
   "file_extension": ".py",
   "mimetype": "text/x-python",
   "name": "python",
   "nbconvert_exporter": "python",
   "pygments_lexer": "ipython3",
   "version": "3.11.10"
  }
 },
 "nbformat": 4,
 "nbformat_minor": 2
}
