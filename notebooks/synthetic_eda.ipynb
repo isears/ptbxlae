{
 "cells": [
  {
   "cell_type": "code",
   "execution_count": 1,
   "metadata": {},
   "outputs": [
    {
     "name": "stdout",
     "output_type": "stream",
     "text": [
      "* PTB-XL Autoencoder *\n"
     ]
    }
   ],
   "source": [
    "import torch\n",
    "from ptbxlae.dataprocessing.nkSyntheticDS import SinglechannelSyntheticDS\n",
    "import matplotlib.pyplot as plt\n",
    "import neurokit2 as nk"
   ]
  },
  {
   "cell_type": "code",
   "execution_count": 2,
   "metadata": {},
   "outputs": [],
   "source": [
    "ds = SinglechannelSyntheticDS()"
   ]
  },
  {
   "cell_type": "code",
   "execution_count": 9,
   "metadata": {},
   "outputs": [
    {
     "name": "stdout",
     "output_type": "stream",
     "text": [
      "torch.Size([1, 0])\n"
     ]
    },
    {
     "ename": "ValueError",
     "evalue": "The length of the input vector x must be greater than padlen, which is 18.",
     "output_type": "error",
     "traceback": [
      "\u001b[0;31m---------------------------------------------------------------------------\u001b[0m",
      "\u001b[0;31mValueError\u001b[0m                                Traceback (most recent call last)",
      "Cell \u001b[0;32mIn[9], line 7\u001b[0m\n\u001b[1;32m      4\u001b[0m \u001b[38;5;28mprint\u001b[39m(sample_ecg\u001b[38;5;241m.\u001b[39mshape)\n\u001b[1;32m      5\u001b[0m plottable_ecg \u001b[38;5;241m=\u001b[39m sample_ecg[\u001b[38;5;241m0\u001b[39m,\u001b[38;5;241m0\u001b[39m:\u001b[38;5;241m250\u001b[39m]\n\u001b[0;32m----> 7\u001b[0m signals, info \u001b[38;5;241m=\u001b[39m \u001b[43mnk\u001b[49m\u001b[38;5;241;43m.\u001b[39;49m\u001b[43mecg_process\u001b[49m\u001b[43m(\u001b[49m\u001b[43msample_ecg\u001b[49m\u001b[43m[\u001b[49m\u001b[38;5;241;43m0\u001b[39;49m\u001b[43m]\u001b[49m\u001b[43m,\u001b[49m\u001b[43m \u001b[49m\u001b[43msampling_rate\u001b[49m\u001b[38;5;241;43m=\u001b[39;49m\u001b[38;5;241;43m100\u001b[39;49m\u001b[43m)\u001b[49m\n\u001b[1;32m      9\u001b[0m \u001b[38;5;28mprint\u001b[39m(signals[\u001b[38;5;124m'\u001b[39m\u001b[38;5;124mECG_Rate\u001b[39m\u001b[38;5;124m'\u001b[39m]\u001b[38;5;241m.\u001b[39mmean())\n\u001b[1;32m     11\u001b[0m plt\u001b[38;5;241m.\u001b[39mplot(\u001b[38;5;28mrange\u001b[39m(\u001b[38;5;241m0\u001b[39m, plottable_ecg\u001b[38;5;241m.\u001b[39mshape[\u001b[38;5;241m-\u001b[39m\u001b[38;5;241m1\u001b[39m]), plottable_ecg)\n",
      "File \u001b[0;32m~/VirtualEnvironments/default/lib/python3.11/site-packages/neurokit2/ecg/ecg_process.py:96\u001b[0m, in \u001b[0;36mecg_process\u001b[0;34m(ecg_signal, sampling_rate, method)\u001b[0m\n\u001b[1;32m     94\u001b[0m \u001b[38;5;66;03m# Sanitize and clean input\u001b[39;00m\n\u001b[1;32m     95\u001b[0m ecg_signal \u001b[38;5;241m=\u001b[39m signal_sanitize(ecg_signal)\n\u001b[0;32m---> 96\u001b[0m ecg_cleaned \u001b[38;5;241m=\u001b[39m \u001b[43mecg_clean\u001b[49m\u001b[43m(\u001b[49m\u001b[43mecg_signal\u001b[49m\u001b[43m,\u001b[49m\u001b[43m \u001b[49m\u001b[43msampling_rate\u001b[49m\u001b[38;5;241;43m=\u001b[39;49m\u001b[43msampling_rate\u001b[49m\u001b[43m,\u001b[49m\u001b[43m \u001b[49m\u001b[43mmethod\u001b[49m\u001b[38;5;241;43m=\u001b[39;49m\u001b[43mmethod\u001b[49m\u001b[43m)\u001b[49m\n\u001b[1;32m     98\u001b[0m \u001b[38;5;66;03m# Detect R-peaks\u001b[39;00m\n\u001b[1;32m     99\u001b[0m instant_peaks, info \u001b[38;5;241m=\u001b[39m ecg_peaks(\n\u001b[1;32m    100\u001b[0m     ecg_cleaned\u001b[38;5;241m=\u001b[39mecg_cleaned,\n\u001b[1;32m    101\u001b[0m     sampling_rate\u001b[38;5;241m=\u001b[39msampling_rate,\n\u001b[1;32m    102\u001b[0m     method\u001b[38;5;241m=\u001b[39mmethod,\n\u001b[1;32m    103\u001b[0m     correct_artifacts\u001b[38;5;241m=\u001b[39m\u001b[38;5;28;01mTrue\u001b[39;00m,\n\u001b[1;32m    104\u001b[0m )\n",
      "File \u001b[0;32m~/VirtualEnvironments/default/lib/python3.11/site-packages/neurokit2/ecg/ecg_clean.py:115\u001b[0m, in \u001b[0;36mecg_clean\u001b[0;34m(ecg_signal, sampling_rate, method, **kwargs)\u001b[0m\n\u001b[1;32m    113\u001b[0m method \u001b[38;5;241m=\u001b[39m method\u001b[38;5;241m.\u001b[39mlower()  \u001b[38;5;66;03m# remove capitalised letters\u001b[39;00m\n\u001b[1;32m    114\u001b[0m \u001b[38;5;28;01mif\u001b[39;00m method \u001b[38;5;129;01min\u001b[39;00m [\u001b[38;5;124m\"\u001b[39m\u001b[38;5;124mnk\u001b[39m\u001b[38;5;124m\"\u001b[39m, \u001b[38;5;124m\"\u001b[39m\u001b[38;5;124mnk2\u001b[39m\u001b[38;5;124m\"\u001b[39m, \u001b[38;5;124m\"\u001b[39m\u001b[38;5;124mneurokit\u001b[39m\u001b[38;5;124m\"\u001b[39m, \u001b[38;5;124m\"\u001b[39m\u001b[38;5;124mneurokit2\u001b[39m\u001b[38;5;124m\"\u001b[39m]:\n\u001b[0;32m--> 115\u001b[0m     clean \u001b[38;5;241m=\u001b[39m \u001b[43m_ecg_clean_nk\u001b[49m\u001b[43m(\u001b[49m\u001b[43mecg_signal\u001b[49m\u001b[43m,\u001b[49m\u001b[43m \u001b[49m\u001b[43msampling_rate\u001b[49m\u001b[43m,\u001b[49m\u001b[43m \u001b[49m\u001b[38;5;241;43m*\u001b[39;49m\u001b[38;5;241;43m*\u001b[39;49m\u001b[43mkwargs\u001b[49m\u001b[43m)\u001b[49m\n\u001b[1;32m    116\u001b[0m \u001b[38;5;28;01melif\u001b[39;00m method \u001b[38;5;129;01min\u001b[39;00m [\u001b[38;5;124m\"\u001b[39m\u001b[38;5;124mbiosppy\u001b[39m\u001b[38;5;124m\"\u001b[39m, \u001b[38;5;124m\"\u001b[39m\u001b[38;5;124mgamboa2008\u001b[39m\u001b[38;5;124m\"\u001b[39m]:\n\u001b[1;32m    117\u001b[0m     clean \u001b[38;5;241m=\u001b[39m _ecg_clean_biosppy(ecg_signal, sampling_rate)\n",
      "File \u001b[0;32m~/VirtualEnvironments/default/lib/python3.11/site-packages/neurokit2/ecg/ecg_clean.py:175\u001b[0m, in \u001b[0;36m_ecg_clean_nk\u001b[0;34m(ecg_signal, sampling_rate, **kwargs)\u001b[0m\n\u001b[1;32m    173\u001b[0m \u001b[38;5;28;01mdef\u001b[39;00m \u001b[38;5;21m_ecg_clean_nk\u001b[39m(ecg_signal, sampling_rate\u001b[38;5;241m=\u001b[39m\u001b[38;5;241m1000\u001b[39m, \u001b[38;5;241m*\u001b[39m\u001b[38;5;241m*\u001b[39mkwargs):\n\u001b[1;32m    174\u001b[0m     \u001b[38;5;66;03m# Remove slow drift and dc offset with highpass Butterworth.\u001b[39;00m\n\u001b[0;32m--> 175\u001b[0m     clean \u001b[38;5;241m=\u001b[39m \u001b[43msignal_filter\u001b[49m\u001b[43m(\u001b[49m\n\u001b[1;32m    176\u001b[0m \u001b[43m        \u001b[49m\u001b[43msignal\u001b[49m\u001b[38;5;241;43m=\u001b[39;49m\u001b[43mecg_signal\u001b[49m\u001b[43m,\u001b[49m\n\u001b[1;32m    177\u001b[0m \u001b[43m        \u001b[49m\u001b[43msampling_rate\u001b[49m\u001b[38;5;241;43m=\u001b[39;49m\u001b[43msampling_rate\u001b[49m\u001b[43m,\u001b[49m\n\u001b[1;32m    178\u001b[0m \u001b[43m        \u001b[49m\u001b[43mlowcut\u001b[49m\u001b[38;5;241;43m=\u001b[39;49m\u001b[38;5;241;43m0.5\u001b[39;49m\u001b[43m,\u001b[49m\n\u001b[1;32m    179\u001b[0m \u001b[43m        \u001b[49m\u001b[43mmethod\u001b[49m\u001b[38;5;241;43m=\u001b[39;49m\u001b[38;5;124;43m\"\u001b[39;49m\u001b[38;5;124;43mbutterworth\u001b[39;49m\u001b[38;5;124;43m\"\u001b[39;49m\u001b[43m,\u001b[49m\n\u001b[1;32m    180\u001b[0m \u001b[43m        \u001b[49m\u001b[43morder\u001b[49m\u001b[38;5;241;43m=\u001b[39;49m\u001b[38;5;241;43m5\u001b[39;49m\u001b[43m,\u001b[49m\n\u001b[1;32m    181\u001b[0m \u001b[43m    \u001b[49m\u001b[43m)\u001b[49m\n\u001b[1;32m    183\u001b[0m     clean \u001b[38;5;241m=\u001b[39m signal_filter(signal\u001b[38;5;241m=\u001b[39mclean, sampling_rate\u001b[38;5;241m=\u001b[39msampling_rate, method\u001b[38;5;241m=\u001b[39m\u001b[38;5;124m\"\u001b[39m\u001b[38;5;124mpowerline\u001b[39m\u001b[38;5;124m\"\u001b[39m, \u001b[38;5;241m*\u001b[39m\u001b[38;5;241m*\u001b[39mkwargs)\n\u001b[1;32m    184\u001b[0m     \u001b[38;5;28;01mreturn\u001b[39;00m clean\n",
      "File \u001b[0;32m~/VirtualEnvironments/default/lib/python3.11/site-packages/neurokit2/signal/signal_filter.py:160\u001b[0m, in \u001b[0;36msignal_filter\u001b[0;34m(signal, sampling_rate, lowcut, highcut, method, order, window_size, powerline, show)\u001b[0m\n\u001b[1;32m    157\u001b[0m     \u001b[38;5;28;01mraise\u001b[39;00m \u001b[38;5;167;01mValueError\u001b[39;00m(\u001b[38;5;124m\"\u001b[39m\u001b[38;5;124mNeuroKit error: signal_filter(): you need to specify a \u001b[39m\u001b[38;5;124m'\u001b[39m\u001b[38;5;124mlowcut\u001b[39m\u001b[38;5;124m'\u001b[39m\u001b[38;5;124m or a \u001b[39m\u001b[38;5;124m'\u001b[39m\u001b[38;5;124mhighcut\u001b[39m\u001b[38;5;124m'\u001b[39m\u001b[38;5;124m.\u001b[39m\u001b[38;5;124m\"\u001b[39m)\n\u001b[1;32m    159\u001b[0m \u001b[38;5;28;01mif\u001b[39;00m method \u001b[38;5;129;01min\u001b[39;00m [\u001b[38;5;124m\"\u001b[39m\u001b[38;5;124mbutter\u001b[39m\u001b[38;5;124m\"\u001b[39m, \u001b[38;5;124m\"\u001b[39m\u001b[38;5;124mbutterworth\u001b[39m\u001b[38;5;124m\"\u001b[39m]:\n\u001b[0;32m--> 160\u001b[0m     filtered \u001b[38;5;241m=\u001b[39m \u001b[43m_signal_filter_butterworth\u001b[49m\u001b[43m(\u001b[49m\u001b[43msignal_sanitized\u001b[49m\u001b[43m,\u001b[49m\u001b[43m \u001b[49m\u001b[43msampling_rate\u001b[49m\u001b[43m,\u001b[49m\u001b[43m \u001b[49m\u001b[43mlowcut\u001b[49m\u001b[43m,\u001b[49m\u001b[43m \u001b[49m\u001b[43mhighcut\u001b[49m\u001b[43m,\u001b[49m\u001b[43m \u001b[49m\u001b[43morder\u001b[49m\u001b[43m)\u001b[49m\n\u001b[1;32m    161\u001b[0m \u001b[38;5;28;01melif\u001b[39;00m method \u001b[38;5;129;01min\u001b[39;00m [\u001b[38;5;124m\"\u001b[39m\u001b[38;5;124mbutter_ba\u001b[39m\u001b[38;5;124m\"\u001b[39m, \u001b[38;5;124m\"\u001b[39m\u001b[38;5;124mbutterworth_ba\u001b[39m\u001b[38;5;124m\"\u001b[39m]:\n\u001b[1;32m    162\u001b[0m     filtered \u001b[38;5;241m=\u001b[39m _signal_filter_butterworth_ba(signal_sanitized, sampling_rate, lowcut, highcut, order)\n",
      "File \u001b[0;32m~/VirtualEnvironments/default/lib/python3.11/site-packages/neurokit2/signal/signal_filter.py:249\u001b[0m, in \u001b[0;36m_signal_filter_butterworth\u001b[0;34m(signal, sampling_rate, lowcut, highcut, order)\u001b[0m\n\u001b[1;32m    247\u001b[0m freqs, filter_type \u001b[38;5;241m=\u001b[39m _signal_filter_sanitize(lowcut\u001b[38;5;241m=\u001b[39mlowcut, highcut\u001b[38;5;241m=\u001b[39mhighcut, sampling_rate\u001b[38;5;241m=\u001b[39msampling_rate)\n\u001b[1;32m    248\u001b[0m sos \u001b[38;5;241m=\u001b[39m scipy\u001b[38;5;241m.\u001b[39msignal\u001b[38;5;241m.\u001b[39mbutter(order, freqs, btype\u001b[38;5;241m=\u001b[39mfilter_type, output\u001b[38;5;241m=\u001b[39m\u001b[38;5;124m\"\u001b[39m\u001b[38;5;124msos\u001b[39m\u001b[38;5;124m\"\u001b[39m, fs\u001b[38;5;241m=\u001b[39msampling_rate)\n\u001b[0;32m--> 249\u001b[0m filtered \u001b[38;5;241m=\u001b[39m \u001b[43mscipy\u001b[49m\u001b[38;5;241;43m.\u001b[39;49m\u001b[43msignal\u001b[49m\u001b[38;5;241;43m.\u001b[39;49m\u001b[43msosfiltfilt\u001b[49m\u001b[43m(\u001b[49m\u001b[43msos\u001b[49m\u001b[43m,\u001b[49m\u001b[43m \u001b[49m\u001b[43msignal\u001b[49m\u001b[43m)\u001b[49m\n\u001b[1;32m    250\u001b[0m \u001b[38;5;28;01mreturn\u001b[39;00m filtered\n",
      "File \u001b[0;32m~/VirtualEnvironments/default/lib/python3.11/site-packages/scipy/signal/_signaltools.py:4411\u001b[0m, in \u001b[0;36msosfiltfilt\u001b[0;34m(sos, x, axis, padtype, padlen)\u001b[0m\n\u001b[1;32m   4409\u001b[0m ntaps \u001b[38;5;241m=\u001b[39m \u001b[38;5;241m2\u001b[39m \u001b[38;5;241m*\u001b[39m n_sections \u001b[38;5;241m+\u001b[39m \u001b[38;5;241m1\u001b[39m\n\u001b[1;32m   4410\u001b[0m ntaps \u001b[38;5;241m-\u001b[39m\u001b[38;5;241m=\u001b[39m \u001b[38;5;28mmin\u001b[39m((sos[:, \u001b[38;5;241m2\u001b[39m] \u001b[38;5;241m==\u001b[39m \u001b[38;5;241m0\u001b[39m)\u001b[38;5;241m.\u001b[39msum(), (sos[:, \u001b[38;5;241m5\u001b[39m] \u001b[38;5;241m==\u001b[39m \u001b[38;5;241m0\u001b[39m)\u001b[38;5;241m.\u001b[39msum())\n\u001b[0;32m-> 4411\u001b[0m edge, ext \u001b[38;5;241m=\u001b[39m \u001b[43m_validate_pad\u001b[49m\u001b[43m(\u001b[49m\u001b[43mpadtype\u001b[49m\u001b[43m,\u001b[49m\u001b[43m \u001b[49m\u001b[43mpadlen\u001b[49m\u001b[43m,\u001b[49m\u001b[43m \u001b[49m\u001b[43mx\u001b[49m\u001b[43m,\u001b[49m\u001b[43m \u001b[49m\u001b[43maxis\u001b[49m\u001b[43m,\u001b[49m\n\u001b[1;32m   4412\u001b[0m \u001b[43m                          \u001b[49m\u001b[43mntaps\u001b[49m\u001b[38;5;241;43m=\u001b[39;49m\u001b[43mntaps\u001b[49m\u001b[43m)\u001b[49m\n\u001b[1;32m   4414\u001b[0m \u001b[38;5;66;03m# These steps follow the same form as filtfilt with modifications\u001b[39;00m\n\u001b[1;32m   4415\u001b[0m zi \u001b[38;5;241m=\u001b[39m sosfilt_zi(sos)  \u001b[38;5;66;03m# shape (n_sections, 2) --> (n_sections, ..., 2, ...)\u001b[39;00m\n",
      "File \u001b[0;32m~/VirtualEnvironments/default/lib/python3.11/site-packages/scipy/signal/_signaltools.py:4180\u001b[0m, in \u001b[0;36m_validate_pad\u001b[0;34m(padtype, padlen, x, axis, ntaps)\u001b[0m\n\u001b[1;32m   4178\u001b[0m \u001b[38;5;66;03m# x's 'axis' dimension must be bigger than edge.\u001b[39;00m\n\u001b[1;32m   4179\u001b[0m \u001b[38;5;28;01mif\u001b[39;00m x\u001b[38;5;241m.\u001b[39mshape[axis] \u001b[38;5;241m<\u001b[39m\u001b[38;5;241m=\u001b[39m edge:\n\u001b[0;32m-> 4180\u001b[0m     \u001b[38;5;28;01mraise\u001b[39;00m \u001b[38;5;167;01mValueError\u001b[39;00m(\u001b[38;5;124m\"\u001b[39m\u001b[38;5;124mThe length of the input vector x must be greater \u001b[39m\u001b[38;5;124m\"\u001b[39m\n\u001b[1;32m   4181\u001b[0m                      \u001b[38;5;124m\"\u001b[39m\u001b[38;5;124mthan padlen, which is \u001b[39m\u001b[38;5;132;01m%d\u001b[39;00m\u001b[38;5;124m.\u001b[39m\u001b[38;5;124m\"\u001b[39m \u001b[38;5;241m%\u001b[39m edge)\n\u001b[1;32m   4183\u001b[0m \u001b[38;5;28;01mif\u001b[39;00m padtype \u001b[38;5;129;01mis\u001b[39;00m \u001b[38;5;129;01mnot\u001b[39;00m \u001b[38;5;28;01mNone\u001b[39;00m \u001b[38;5;129;01mand\u001b[39;00m edge \u001b[38;5;241m>\u001b[39m \u001b[38;5;241m0\u001b[39m:\n\u001b[1;32m   4184\u001b[0m     \u001b[38;5;66;03m# Make an extension of length `edge` at each\u001b[39;00m\n\u001b[1;32m   4185\u001b[0m     \u001b[38;5;66;03m# end of the input array.\u001b[39;00m\n\u001b[1;32m   4186\u001b[0m     \u001b[38;5;28;01mif\u001b[39;00m padtype \u001b[38;5;241m==\u001b[39m \u001b[38;5;124m'\u001b[39m\u001b[38;5;124meven\u001b[39m\u001b[38;5;124m'\u001b[39m:\n",
      "\u001b[0;31mValueError\u001b[0m: The length of the input vector x must be greater than padlen, which is 18."
     ]
    }
   ],
   "source": [
    "SAMPLE_IDX = 29583\n",
    "\n",
    "sample_ecg = ds[SAMPLE_IDX]\n",
    "print(sample_ecg.shape)\n",
    "plottable_ecg = sample_ecg[0,0:250]\n",
    "\n",
    "signals, info = nk.ecg_process(sample_ecg[0], sampling_rate=100)\n",
    "\n",
    "print(signals['ECG_Rate'].mean())\n",
    "\n",
    "plt.plot(range(0, plottable_ecg.shape[-1]), plottable_ecg)"
   ]
  },
  {
   "cell_type": "code",
   "execution_count": null,
   "metadata": {},
   "outputs": [],
   "source": []
  }
 ],
 "metadata": {
  "kernelspec": {
   "display_name": "default",
   "language": "python",
   "name": "python3"
  },
  "language_info": {
   "codemirror_mode": {
    "name": "ipython",
    "version": 3
   },
   "file_extension": ".py",
   "mimetype": "text/x-python",
   "name": "python",
   "nbconvert_exporter": "python",
   "pygments_lexer": "ipython3",
   "version": "3.11.10"
  }
 },
 "nbformat": 4,
 "nbformat_minor": 2
}
